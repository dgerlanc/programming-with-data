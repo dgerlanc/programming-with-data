{
 "cells": [
  {
   "cell_type": "markdown",
   "metadata": {
    "tags": [
     "setup"
    ]
   },
   "source": [
    "(c) 2016 - present. Enplus Advisors, Inc."
   ]
  },
  {
   "cell_type": "markdown",
   "metadata": {
    "tags": [
     "setup"
    ]
   },
   "source": [
    "This module uses:\n",
    "* SP500 returns"
   ]
  },
  {
   "cell_type": "code",
   "execution_count": null,
   "metadata": {
    "tags": [
     "setup"
    ]
   },
   "outputs": [],
   "source": [
    "import datetime as dt\n",
    "\n",
    "import numpy as np\n",
    "import pandas as pd\n",
    "\n",
    "pd.set_option('display.precision', 2)"
   ]
  },
  {
   "cell_type": "code",
   "execution_count": null,
   "metadata": {
    "tags": [
     "setup"
    ]
   },
   "outputs": [],
   "source": [
    "sp5_df = pd.read_csv(\n",
    "    'sp500.csv', usecols=['date', 'adj_close'], \n",
    "    parse_dates=['date'])"
   ]
  },
  {
   "cell_type": "markdown",
   "metadata": {
    "tags": [
     "exercise"
    ]
   },
   "source": [
    "**Exercise:**\n",
    "\n",
    "Create a `pandas` Timestamp for January 1st, 1993 16:00 (don't worry about timezone)."
   ]
  },
  {
   "cell_type": "markdown",
   "metadata": {
    "tags": [
     "exercise"
    ]
   },
   "source": [
    "**Exercise:**\n",
    "\n",
    "Generate a an Index of:\n",
    "* 5 calendar days starting on January 1, 2010.\n",
    "* All US business days (weekdays) starting on January 1, 2010\n",
    "  and ending on January 15, 2010.\n",
    "  \n",
    "__Hint:__ You can view the help for a function by running `help(function_name)`, e.g. `help(pd.Timestamp)`. Try looking at the help for `pd.date_range`."
   ]
  },
  {
   "cell_type": "markdown",
   "metadata": {
    "tags": [
     "exercise"
    ]
   },
   "source": [
    "**Exercise:**\n",
    "\n",
    "Create a Series named `sp5` from the `adj_close` column `sp5_df`, using `date` as the\n",
    "index. Make sure you call `sort_index()` to make sure the index is sorted.\n",
    "\n",
    "__Hint:__ The first two parameters of `pd.Series` are `data` and `index`. When both `data` and `index` are `Series`, the `index` of `data` is aligned against the values in `Series`. You can always force positional alignment by converting a `Series` to an `PandasArray` (`pd.Series.array`)\n"
   ]
  },
  {
   "cell_type": "markdown",
   "metadata": {
    "tags": [
     "exercise"
    ]
   },
   "source": [
    "**Exercise:**\n",
    "\n",
    "Write 2 different ways to select January 3, 1995 from the `sp5` series. \n",
    "\n",
    "_There are more than 2 ways to do this, but you only need 2!_"
   ]
  },
  {
   "cell_type": "markdown",
   "metadata": {
    "tags": [
     "exercise"
    ]
   },
   "source": [
    "**Exercise:**\n",
    "\n",
    "Select from `sp5` all observations for:\n",
    "* March 1995\n",
    "* Year of 1995"
   ]
  },
  {
   "cell_type": "markdown",
   "metadata": {
    "tags": [
     "exercise"
    ]
   },
   "source": [
    "**Exercise**\n",
    "\n",
    "For `sp5`:\n",
    "\n",
    "Calculate the day-over-day percent change in the values and to assign the result to the variable `sp5_rtn`.\n",
    "\n",
    "Hint: Use `shift`"
   ]
  },
  {
   "cell_type": "markdown",
   "metadata": {
    "tags": [
     "exercise"
    ]
   },
   "source": [
    "**Exercise**\n",
    "\n",
    "Resample the data from daily to monthly to calculate average day-over-day percent change."
   ]
  }
 ],
 "metadata": {
  "kernelspec": {
   "display_name": "Python 3 (ipykernel)",
   "language": "python",
   "name": "python3"
  },
  "language_info": {
   "codemirror_mode": {
    "name": "ipython",
    "version": 3
   },
   "file_extension": ".py",
   "mimetype": "text/x-python",
   "name": "python",
   "nbconvert_exporter": "python",
   "pygments_lexer": "ipython3",
   "version": "3.10.8"
  }
 },
 "nbformat": 4,
 "nbformat_minor": 4
}
