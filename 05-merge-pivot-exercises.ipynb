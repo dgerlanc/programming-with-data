{
 "cells": [
  {
   "cell_type": "markdown",
   "metadata": {
    "tags": [
     "setup"
    ]
   },
   "source": [
    "(c) 2016 - present. Enplus Advisors, Inc."
   ]
  },
  {
   "cell_type": "code",
   "execution_count": null,
   "metadata": {
    "tags": [
     "setup"
    ]
   },
   "outputs": [],
   "source": [
    "import io\n",
    "\n",
    "import numpy as np\n",
    "import pandas as pd\n",
    "\n",
    "pd.set_option('display.precision', 2)"
   ]
  },
  {
   "cell_type": "code",
   "execution_count": null,
   "metadata": {
    "tags": [
     "setup"
    ]
   },
   "outputs": [],
   "source": [
    "prc = pd.read_csv(\n",
    "    io.StringIO('ticker,open,date,close\\nAAPL,426.23,2018-01-04,435.23\\nMSFT,42.3,2018-01-04,51.3\\nAAPL,436.23,2018-01-05,\\nMSFT,52.3,2018-01-05,\\n'),\n",
    "    parse_dates=['date']\n",
    ")\n",
    "prc2 = prc.assign(\n",
    "    date=pd.to_datetime('2018-01-06'),\n",
    "    close=prc.open + np.random.randn(len(prc.open))\n",
    ").drop('open', axis=1)"
   ]
  },
  {
   "cell_type": "code",
   "execution_count": null,
   "metadata": {
    "tags": [
     "setup"
    ]
   },
   "outputs": [],
   "source": [
    "volume = pd.DataFrame({\n",
    "    'ticker': ['AAPL', 'MSFT', 'IBM', 'YHOO', 'GOOG'],\n",
    "    'volume': [1954.73,  335.83,  362.79,  858.18,  629.79]\n",
    "}).assign(date=pd.to_datetime('2018-01-05'))"
   ]
  },
  {
   "cell_type": "markdown",
   "metadata": {
    "tags": [
     "exercise"
    ]
   },
   "source": [
    "**Exercise**\n",
    "\n",
    "Merge `prc` and `volume` on `ticker, date`:\n",
    "\n",
    "* Preserving only the records with common `ticker`s and `date`s\n",
    "* Preserving all the records in `prc`\n",
    "* Preserving the records in both `prc` and `volume`\n",
    "\n",
    "_All of these merges should be performed on `ticker` and `date`_"
   ]
  },
  {
   "cell_type": "markdown",
   "metadata": {
    "tags": [
     "exercise"
    ]
   },
   "source": [
    "**Exercise:**\n",
    "\n",
    "Using `pd.concat`, concatenate the rows of `prc` and `prc2`, making\n",
    "a single call to `pd.concat` for each bulleted sub-exercise:\n",
    "\n",
    "* Make sure your result generates a new index like in the previous\n",
    "  exercise\n",
    "* Only include the columns in both `prc` and `prc2` in the result,\n",
    "  additionally generating a new index\n",
    "* Make your result include a `MultiIndex` with a value of `prc`\n",
    "  or `prc2` to indicate which `DataFrame` provided the values"
   ]
  }
 ],
 "metadata": {
  "kernelspec": {
   "display_name": "Python 3 (ipykernel)",
   "language": "python",
   "name": "python3"
  },
  "language_info": {
   "codemirror_mode": {
    "name": "ipython",
    "version": 3
   },
   "file_extension": ".py",
   "mimetype": "text/x-python",
   "name": "python",
   "nbconvert_exporter": "python",
   "pygments_lexer": "ipython3",
   "version": "3.10.8"
  }
 },
 "nbformat": 4,
 "nbformat_minor": 4
}
